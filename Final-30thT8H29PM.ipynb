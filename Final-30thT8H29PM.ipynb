{
 "cells": [
  {
   "cell_type": "raw",
   "metadata": {},
   "source": [
    ".########.####.########...######..########....########.....###....########..########\n",
    ".##........##..##.....##.##....##....##.......##.....##...##.##...##.....##....##...\n",
    ".##........##..##.....##.##..........##.......##.....##..##...##..##.....##....##...\n",
    ".######....##..########...######.....##.......########..##.....##.########.....##...\n",
    ".##........##..##...##.........##....##.......##........#########.##...##......##...\n",
    ".##........##..##....##..##....##....##.......##........##.....##.##....##.....##...\n",
    ".##.......####.##.....##..######.....##.......##........##.....##.##.....##....##..."
   ]
  },
  {
   "cell_type": "markdown",
   "metadata": {},
   "source": [
    "In this first part: we'll be exploring diffrent repositories"
   ]
  },
  {
   "cell_type": "markdown",
   "metadata": {},
   "source": [
    "### Importing modules"
   ]
  },
  {
   "cell_type": "markdown",
   "metadata": {},
   "source": [
    "##### some of the tasks are a bit demanding, to be able to see the progess you'll be needing tqdm: pip install tqdm, it's a small package. The program will run normally if it's not install, but you won't be able to see the progres (we tried to handle exceptions, errors won't be raised)"
   ]
  },
  {
   "cell_type": "code",
   "execution_count": null,
   "metadata": {},
   "outputs": [],
   "source": [
    "from obspy.clients.fdsn import Client\n",
    "from tp_obspy_utils import plot_stations\n",
    "from tp_obspy_utils import plot_events\n",
    "from obspy import UTCDateTime, read, read_inventory\n",
    "from tp_obspy_utils import get_periodogram\n",
    "import re\n",
    "try:\n",
    "    from tqdm.notebook import tqdm\n",
    "    checktqdm = True\n",
    "except ModuleNotFoundError:\n",
    "    print(\"Progress bar won't be shown, please install tqdm: pip install tqdm\")\n",
    "import numpy as np\n",
    "import matplotlib.pyplot as plt\n",
    "print(\"Done...\")"
   ]
  },
  {
   "cell_type": "markdown",
   "metadata": {},
   "source": [
    "# For this first part, we'll go through multiple repositories\n"
   ]
  },
  {
   "cell_type": "markdown",
   "metadata": {},
   "source": [
    "### Getting clients codes and storing them in the \"key\" variable"
   ]
  },
  {
   "cell_type": "code",
   "execution_count": null,
   "metadata": {},
   "outputs": [],
   "source": [
    "keys  = []\n",
    "codes = []\n",
    "if checktqdm: pbar0 = tqdm(total=len(keys))  # Init pbar\n",
    "from obspy.clients.fdsn.header import URL_MAPPINGS\n",
    "i = 0\n",
    "for key in sorted(URL_MAPPINGS.keys()):\n",
    "    i += 1\n",
    "    if checktqdm: pbar0.update(n=1)  # Increments counter\n",
    "    keys.append(key)\n",
    "    codes.append(str(key[:2]))\n",
    "print(keys)\n",
    "print(\"Done...\")"
   ]
  },
  {
   "cell_type": "markdown",
   "metadata": {},
   "source": [
    "### Intialiazing search variables"
   ]
  },
  {
   "cell_type": "code",
   "execution_count": null,
   "metadata": {},
   "outputs": [],
   "source": [
    "minlat = 40\n",
    "maxlat = 45\n",
    "minlg = 10\n",
    "maxlg = 15\n",
    "minmag =6.0\n",
    "start = UTCDateTime(\"2016-08-24T01:35:00.000000Z\")\n",
    "end = UTCDateTime(\"2016-08-24T01:38:30.000000Z\")\n",
    "print(\"Done...\")"
   ]
  },
  {
   "cell_type": "markdown",
   "metadata": {},
   "source": [
    "#### Install tqdm before running, it will take a while to fill the inventory object from all these source, tqdm will display a progress bar. for IV network"
   ]
  },
  {
   "cell_type": "markdown",
   "metadata": {},
   "source": [
    "### Looking for our EQ in each clients repository, getting the events, storing and plotting them"
   ]
  },
  {
   "cell_type": "markdown",
   "metadata": {},
   "source": [
    "The client's names will be stored be stored in an array"
   ]
  },
  {
   "cell_type": "code",
   "execution_count": null,
   "metadata": {
    "scrolled": true
   },
   "outputs": [],
   "source": [
    "events = []\n",
    "keepdc = []\n",
    "if checktqdm: pbar1 = tqdm(total=len(keys))  # Init pbar\n",
    "\n",
    "for key in keys:\n",
    "    if checktqdm: pbar1.update(n=1)  # Increments counter\n",
    "    try:\n",
    "        temp = Client(key).get_events(\n",
    "            minlatitude=minlat,\n",
    "            maxlatitude=maxlat,\n",
    "            minlongitude=minlg,\n",
    "            maxlongitude=maxlg,\n",
    "            minmagnitude=minmag,\n",
    "            starttime=start,\n",
    "            endtime=end,\n",
    "        )\n",
    "        events.__iadd__(temp)\n",
    "        \n",
    "        print(\"Event found in {} data center\".format(str(key)))\n",
    "        keepdc.append(key)\n",
    "    except:\n",
    "        continue\n",
    "        #print(\"issue with {}\".format(str(key)))\n",
    "print(\"Done...\")\n",
    "plot_events(events, origin=[42.7, 13.2], zoom=13)\n"
   ]
  },
  {
   "cell_type": "markdown",
   "metadata": {},
   "source": [
    "### Getting stations from diffrent clients  (where the event was found) and networks | CAUTION: this will take a while. Make sure tqdm is installed so you can see the progress."
   ]
  },
  {
   "cell_type": "code",
   "execution_count": null,
   "metadata": {},
   "outputs": [],
   "source": [
    "invall = []\n",
    "if checktqdm: pbar1 = tqdm(total=len(keepdc))  # Init pbar\n",
    "for dc in keepdc: #keepdc: clients on whose repositories our event(s) were found\n",
    "    try:\n",
    "        if checktqdm: pbar1.update(n=1)  # Increments counter\n",
    "        client = Client(dc)\n",
    "        invall.append(client.get_stations(network=\"*\"))\n",
    "    except:\n",
    "        if checktqdm: pbar1.update(n=1)  # Increments counter\n",
    "        continue\n",
    "print(\"Done...\")"
   ]
  },
  {
   "cell_type": "markdown",
   "metadata": {},
   "source": [
    "### Getting and storing station names & codes"
   ]
  },
  {
   "cell_type": "code",
   "execution_count": null,
   "metadata": {},
   "outputs": [],
   "source": [
    "station_codes_all = []\n",
    "stations = []\n",
    "if checktqdm: pbar1 = tqdm(total=len(invall))  # Init pbar\n",
    "for inv in invall:\n",
    "    if checktqdm: pbar1.update(n=1)  # Increments counter\n",
    "    for net in inv:\n",
    "        for station in net:\n",
    "            station_codes_all.append(station.code)\n",
    "            stations.append([net.code, station.code, station.latitude, station.longitude, station.elevation])\n",
    "    \n",
    "print(\"Done...\")"
   ]
  },
  {
   "cell_type": "markdown",
   "metadata": {},
   "source": [
    "### Try and plot data from diffrent sources"
   ]
  },
  {
   "cell_type": "markdown",
   "metadata": {},
   "source": [
    "To avoid long running times, we're not gonna iterate through all the stations "
   ]
  },
  {
   "cell_type": "code",
   "execution_count": null,
   "metadata": {},
   "outputs": [],
   "source": [
    "print(\"there are {} stations, we won't be able to check all the data, we'll add some restrictions\".format(len(station_codes_all)))"
   ]
  },
  {
   "cell_type": "markdown",
   "metadata": {},
   "source": [
    "###### The next 2 cells were used to explore the data, the first one is to restrict the number of stations to be explored, the seocnd will retrieve the data from the BHZ channel. difrrent channels were tried out as well, this piece of code is the end of the first part where the code was used to explore diffrent datacenters\n",
    "PS: nothing be plotted after running this cell, we limitted the number of stations so the Jupyter kernel won't be busy for a long period of time unecessarily. Kepp in mind, this piece of code was used as we were progressing was being modified to help us make a choice."
   ]
  },
  {
   "cell_type": "code",
   "execution_count": null,
   "metadata": {},
   "outputs": [],
   "source": [
    "N = 10  # \n",
    "usestations = stations[:N]\n"
   ]
  },
  {
   "cell_type": "code",
   "execution_count": null,
   "metadata": {},
   "outputs": [],
   "source": [
    "if checktqdm: pbar = tqdm(total=len(usestations))  # Init pbar\n",
    "for station in usestations:\n",
    "    if checktqdm: pbar.update(n=1)  # Increments counter\n",
    "    try:\n",
    "        wform = client.get_waveforms(\n",
    "                        network=\"*\",\n",
    "                        station= \"*\",\n",
    "                        location=\"*\",\n",
    "                        channel=\"BHZ\",\n",
    "                        starttime=start,\n",
    "                        endtime=end,\n",
    "                        attach_response=True,\n",
    "            )\n",
    "        i += 1\n",
    "        wform.write(\"./file{}.mseed\".format(str(i)+str(station[1])))\n",
    "        wform1 = read(\"file{}.mseed\".format(str(i)+str(station[1]))) \n",
    "        try:\n",
    "            wform1\n",
    "        except NameError:\n",
    "            var_exists = False\n",
    "        else:\n",
    "            var_exists = True\n",
    "        print(var_exists)\n",
    "        wform1.plot();\n",
    "    except:\n",
    "        try:\n",
    "            wform1\n",
    "        except NameError:\n",
    "            var_exists = False\n",
    "        else:\n",
    "            var_exists = True\n",
    "        if not var_exists: N += 1; usestations = stations[:N]\n",
    "    if N > 200: break\n",
    "print(\"Done...\")\n",
    "\n",
    "        \n"
   ]
  },
  {
   "cell_type": "raw",
   "metadata": {},
   "source": [
    "..######..########..######...#######..##....##.########.....########.....###....########..########\n",
    ".##....##.##.......##....##.##.....##.###...##.##.....##....##.....##...##.##...##.....##....##...\n",
    ".##.......##.......##.......##.....##.####..##.##.....##....##.....##..##...##..##.....##....##...\n",
    "..######..######...##.......##.....##.##.##.##.##.....##....########..##.....##.########.....##...\n",
    ".......##.##.......##.......##.....##.##..####.##.....##....##........#########.##...##......##...\n",
    ".##....##.##.......##....##.##.....##.##...###.##.....##....##........##.....##.##....##.....##...\n",
    "..######..########..######...#######..##....##.########.....##........##.....##.##.....##....##..."
   ]
  },
  {
   "cell_type": "markdown",
   "metadata": {},
   "source": [
    "We narrowed it down, now we shall get to work"
   ]
  },
  {
   "cell_type": "markdown",
   "metadata": {},
   "source": [
    "### Getting an inventory object for a selection of networks from a set of clients.\n",
    "##### this could be used for all the clients where the event was detected, just comment the first line, and the variable \"keepdc\" won't be overwritten "
   ]
  },
  {
   "cell_type": "code",
   "execution_count": null,
   "metadata": {},
   "outputs": [],
   "source": [
    "keepdc = [\"INGV\",\"RESIF\"] # client selection\n",
    "net_selection = ['IV','FR']  # network selection\n",
    "inventory = []\n",
    "if checktqdm: pbar3 = tqdm(total=len(keepdc))  # Init pbar\n",
    "for key in keepdc:\n",
    "    if checktqdm: pbar3.update(n=1)  # Increments counter\n",
    "    for net in net_selection: \n",
    "        client = Client(key)\n",
    "        try:\n",
    "            inventory.append(client.get_stations(network=net, level=\"channel\"))\n",
    "        except: # as you notice some of the excpetion coudln't be handled by the handler, it wasn't recognized,\n",
    "            # so we're using a general case to stop the program from stopping, the statememnt \"raise\"..\n",
    "            # .. was used to get the traceback during troubleshooting\n",
    "            continue\n",
    "print(\"Done...\")"
   ]
  },
  {
   "cell_type": "markdown",
   "metadata": {},
   "source": [
    "### Station selection"
   ]
  },
  {
   "cell_type": "code",
   "execution_count": null,
   "metadata": {},
   "outputs": [],
   "source": [
    "sta_selection = [\"PIGN\",\"RM33\", \"TERO\", \"GRN\"] #station selection"
   ]
  },
  {
   "cell_type": "markdown",
   "metadata": {},
   "source": [
    "### Getting stations froms selection and plotting."
   ]
  },
  {
   "cell_type": "code",
   "execution_count": null,
   "metadata": {
    "scrolled": true
   },
   "outputs": [],
   "source": [
    "sta_selected = []\n",
    "\n",
    "for inv in inventory:\n",
    "    for network in inv:\n",
    "        for station in network:\n",
    "            if station.code in sta_selection:\n",
    "                sta_selected.append([network.code, station.code, station.latitude, station.longitude, station.elevation])\n",
    "\n",
    "print(\"Done...\")\n",
    "plot_stations(sta_selected, origin=[41.8, 13.3], zoom=5, color=\"#9400D3\")"
   ]
  },
  {
   "cell_type": "markdown",
   "metadata": {},
   "source": [
    "### Get and plot waveforms - IV network"
   ]
  },
  {
   "cell_type": "markdown",
   "metadata": {},
   "source": [
    "#### we tried using filters, passing the bp filter coeffcients as an arument in the remove_response method"
   ]
  },
  {
   "cell_type": "markdown",
   "metadata": {},
   "source": [
    "#### First staion: TERO\n",
    "Please keep in mind, we used earlier one cell to get all the data from IV, but to get a given recording time for each station we seperated them, there are ways to do so in one cell only, but they'll be more nesting which will run slowly. You'll notice that the first loop iterates only once, that's because elemements can be added easily to the iterator, and useing this exact same code for multiple stations easily. "
   ]
  },
  {
   "cell_type": "code",
   "execution_count": null,
   "metadata": {
    "scrolled": false
   },
   "outputs": [],
   "source": [
    "wform=0\n",
    "chan_selection = ['HHZ','HHN','HHE']\n",
    "sta_ingv = [\"TERO\"]\n",
    "if checktqdm: pbar = tqdm(total=len(chan_selection))  # Init pbar\n",
    "    \n",
    "client = Client(\"INGV\")\n",
    "for sta in sta_ingv:\n",
    "    for chan in chan_selection:\n",
    "        if checktqdm: pbar.update(n=1)  # Increments counter\n",
    "        try:\n",
    "            wforma = client.get_waveforms(\n",
    "                                    network=\"IV\",\n",
    "                                    station= sta,\n",
    "                                    location=\"*\",\n",
    "                                    channel= chan,\n",
    "                                    starttime=UTCDateTime(\"2016-08-24T01:36:30.000000Z\"),\n",
    "                                    endtime=UTCDateTime(\"2016-08-24T01:38:00.000000Z\"),\n",
    "                                    attach_response=True,)\n",
    "\n",
    "            wforma.write(\"./{}.mseed\".format(str(sta)+str(chan)))\n",
    "            wform1 = read(\"{}.mseed\".format(str(sta)+str(chan))) \n",
    "            wform1.plot()\n",
    "        except:\n",
    "            pass\n",
    "print(\"Done...\")\n"
   ]
  },
  {
   "cell_type": "markdown",
   "metadata": {},
   "source": [
    "#### Second staion: PIGN"
   ]
  },
  {
   "cell_type": "code",
   "execution_count": null,
   "metadata": {},
   "outputs": [],
   "source": [
    "chan_selection = ['HHZ','HHN','HHE']\n",
    "sta_ingv = [\"PIGN\"]\n",
    "if checktqdm: pbar = tqdm(total=len(chan_selection))  # Init pbar\n",
    "    \n",
    "client = Client(\"INGV\")\n",
    "for sta in sta_ingv:\n",
    "    for chan in chan_selection:\n",
    "        if checktqdm: pbar.update(n=1)  # Increments counter\n",
    "        try:\n",
    "            wformb = client.get_waveforms(\n",
    "                                    network=\"IV\",\n",
    "                                    station= sta,\n",
    "                                    location=\"*\",\n",
    "                                    channel= chan,\n",
    "                                    starttime=UTCDateTime(\"2016-08-24T01:37:00.000000Z\"),\n",
    "                                    endtime=UTCDateTime(\"2016-08-24T01:41:00.000000Z\"),\n",
    "                                    attach_response=True,)  \n",
    "            wformb.remove_response()\n",
    "            wformb.write(\"./{}.mseed\".format(str(sta)+str(chan)))\n",
    "            wform1 = read(\"{}.mseed\".format(str(sta)+str(chan))) \n",
    "            wform1.plot()\n",
    "        except:\n",
    "            pass\n",
    "print(\"Done...\")\n"
   ]
  },
  {
   "cell_type": "markdown",
   "metadata": {},
   "source": [
    "#### Third station: RM33 with no filter"
   ]
  },
  {
   "cell_type": "code",
   "execution_count": null,
   "metadata": {},
   "outputs": [],
   "source": [
    "\n",
    "chan_selection = ['HNZ','HNN','HNE']\n",
    "sta_ingv = [\"RM33\"]\n",
    "if checktqdm: pbar = tqdm(total=len(chan_selection))  # Init pbar\n",
    "    \n",
    "client = Client(\"INGV\")\n",
    "for sta in sta_ingv:\n",
    "    for chan in chan_selection:\n",
    "        if checktqdm: pbar.update(n=1)  # Increments counter\n",
    "        try:\n",
    "            wformc = client.get_waveforms(\n",
    "                                    network=\"IV\",\n",
    "                                    station= sta,\n",
    "                                    location=\"*\",\n",
    "                                    channel= chan,\n",
    "                                    starttime=UTCDateTime(\"2016-08-24T01:36:30.000000Z\"),\n",
    "                                    endtime=UTCDateTime(\"2016-08-24T01:37:15.000000Z\"),\n",
    "                                    attach_response=True\n",
    "                            )\n",
    "            wformc.remove_response()\n",
    "            wformc.write(\"./{}.mseed\".format(str(sta)+str(chan)))\n",
    "            wform1 = read(\"{}.mseed\".format(str(sta)+str(chan))) \n",
    "            wform1.plot()\n",
    "        except:\n",
    "            pass\n",
    "print(\"Done...\")"
   ]
  },
  {
   "cell_type": "code",
   "execution_count": null,
   "metadata": {},
   "outputs": [],
   "source": [
    "\n",
    "chan_selection = ['HNZ','HNN','HNE']\n",
    "sta_ingv = [\"RM33\"]\n",
    "if checktqdm: pbar = tqdm(total=len(chan_selection))  # Init pbar\n",
    "    \n",
    "client = Client(\"INGV\")\n",
    "for sta in sta_ingv:\n",
    "    for chan in chan_selection:\n",
    "        if checktqdm: pbar.update(n=1)  # Increments counter\n",
    "        try:\n",
    "            wformc = client.get_waveforms(\n",
    "                                    network=\"IV\",\n",
    "                                    station= sta,\n",
    "                                    location=\"*\",\n",
    "                                    channel= chan,\n",
    "                                    starttime=UTCDateTime(\"2016-08-24T01:36:30.000000Z\"),\n",
    "                                    endtime=UTCDateTime(\"2016-08-24T01:37:15.000000Z\"),\n",
    "                                    attach_response=True,\n",
    "                            )\n",
    "            pre_filt = (0, 0.1, 45.0, 50.0)\n",
    "            wformc.remove_response(pre_filt=pre_filt)\n",
    "            wformc.write(\"./{}.mseed\".format(str(sta)+str(chan)+'filtre'))\n",
    "            wform1 = read(\"{}.mseed\".format(str(sta)+str(chan)+'filtre')) \n",
    "            wform1.plot()\n",
    "        except:\n",
    "            pass\n",
    "print(\"Done...\")"
   ]
  },
  {
   "cell_type": "markdown",
   "metadata": {},
   "source": [
    "### Get and plot waveforms - FR network\n",
    "#### Fourth  station: GRN"
   ]
  },
  {
   "cell_type": "code",
   "execution_count": null,
   "metadata": {
    "scrolled": true
   },
   "outputs": [],
   "source": [
    "if checktqdm: pbar = tqdm(total=len(chan_selection))  # Init pbar\n",
    "chan_selection = ['HHZ','HHN','HHE']   \n",
    "sta='GRN'\n",
    "client = Client(\"RESIF\")\n",
    "for chan in chan_selection:\n",
    "    if checktqdm: pbar.update(n=1)  # Increments counter\n",
    "    try:\n",
    "        wformd = client.get_waveforms(\n",
    "                                    network=\"FR\",\n",
    "                                    station= \"GRN\",\n",
    "                                    location=\"*\",\n",
    "                                    channel= chan,\n",
    "                                    starttime=UTCDateTime(\"2016-08-24T01:38:00.000000Z\"),\n",
    "                                    endtime=UTCDateTime(\"2016-08-24T01:48:00.000000Z\"),\n",
    "                                    attach_response=True,\n",
    "                            )\n",
    "        wformd.remove_response()\n",
    "        wformd.write(\"./{}.mseed\".format(str(sta)+str(chan)))\n",
    "        wform1 = read(\"{}.mseed\".format(str(sta)+str(chan))) \n",
    "        wform1.plot()\n",
    "    except:\n",
    "        pass\n",
    "print(\"Done...\")\n"
   ]
  },
  {
   "cell_type": "markdown",
   "metadata": {},
   "source": [
    "# working on the data\n",
    "##### reading data from the downloded files, we used a basic naming convention: station-code+channel-code it's easy to retrieve now."
   ]
  },
  {
   "cell_type": "code",
   "execution_count": null,
   "metadata": {},
   "outputs": [],
   "source": [
    "rm33z = read(\"RM33HNZ.mseed\")\n",
    "rm33n = read(\"RM33HNN.mseed\")\n",
    "rm33e = read(\"RM33HNE.mseed\")\n",
    "\n",
    "teroz = read(\"TEROHHZ.mseed\")\n",
    "teron = read(\"TEROHHN.mseed\")\n",
    "teroe = read(\"TEROHHE.mseed\")\n",
    "\n",
    "pignz = read(\"PIGNHHZ.mseed\")\n",
    "pignn = read(\"PIGNHHN.mseed\")\n",
    "pigne = read(\"PIGNHHE.mseed\")\n",
    "\n",
    "grnz = read(\"GRNHHZ.mseed\")\n",
    "grnn = read(\"GRNHHN.mseed\")\n",
    "grne = read(\"GRNHHE.mseed\")\n",
    "print(\"Done...\")"
   ]
  },
  {
   "cell_type": "markdown",
   "metadata": {},
   "source": [
    "### Get spectral density from each of the four signals. "
   ]
  },
  {
   "cell_type": "code",
   "execution_count": null,
   "metadata": {},
   "outputs": [],
   "source": [
    "### RM33\n",
    "rm33zSpec = rm33z[0].data\n",
    "sampling_rate = rm33z[0].stats.sampling_rate\n",
    "get_periodogram(\n",
    "    rm33zSpec, fs=sampling_rate, semilog=True, show=True\n",
    ")\n",
    "\n",
    "rm33nSpec = rm33n[0].data\n",
    "sampling_rate = rm33n[0].stats.sampling_rate\n",
    "get_periodogram(\n",
    "    rm33nSpec, fs=sampling_rate, semilog=True, show=True\n",
    ")\n",
    "\n",
    "rm33eSpec = rm33e[0].data\n",
    "sampling_rate = rm33e[0].stats.sampling_rate\n",
    "get_periodogram(\n",
    "    rm33eSpec, fs=sampling_rate, semilog=True, show=True\n",
    ")\n",
    "\n",
    "### TERO\n",
    "\n",
    "terozSpec = rm33z[0].data\n",
    "sampling_rate = teroz[0].stats.sampling_rate\n",
    "get_periodogram(\n",
    "    terozSpec, fs=sampling_rate, semilog=True, show=True\n",
    ")\n",
    "\n",
    "teronSpec = teron[0].data\n",
    "sampling_rate = teron[0].stats.sampling_rate\n",
    "get_periodogram(\n",
    "    teronSpec, fs=sampling_rate, semilog=True, show=True\n",
    ")\n",
    "\n",
    "teroeSpec = teroe[0].data\n",
    "sampling_rate = teroe[0].stats.sampling_rate\n",
    "get_periodogram(\n",
    "    teroeSpec, fs=sampling_rate, semilog=True, show=True\n",
    ")\n",
    "\n",
    "### PIGN\n",
    "\n",
    "pignzSpec = pignz[0].data\n",
    "sampling_rate = pignz[0].stats.sampling_rate\n",
    "get_periodogram(\n",
    "    pignzSpec, fs=sampling_rate, semilog=True, show=True\n",
    ")\n",
    "\n",
    "pignnSpec = pignn[0].data\n",
    "sampling_rate = pignn[0].stats.sampling_rate\n",
    "get_periodogram(\n",
    "    pignnSpec, fs=sampling_rate, semilog=True, show=True\n",
    ")\n",
    "\n",
    "pigneSpec = pigne[0].data\n",
    "sampling_rate = pigne[0].stats.sampling_rate\n",
    "get_periodogram(\n",
    "    pigneSpec, fs=sampling_rate, semilog=True, show=True\n",
    ")\n",
    "\n",
    "### GRN\n",
    "\n",
    "grnzSpec = grnz[0].data\n",
    "sampling_rate = grnz[0].stats.sampling_rate\n",
    "get_periodogram(\n",
    "    grnzSpec, fs=sampling_rate, semilog=True, show=True\n",
    ")\n",
    "\n",
    "grnnSpec = pignn[0].data\n",
    "sampling_rate = grnn[0].stats.sampling_rate\n",
    "get_periodogram(\n",
    "    grnnSpec, fs=sampling_rate, semilog=True, show=True\n",
    ")\n",
    "\n",
    "grneSpec = grne[0].data\n",
    "sampling_rate = grne[0].stats.sampling_rate\n",
    "get_periodogram(\n",
    "    grneSpec, fs=sampling_rate, semilog=True, show=True\n",
    ")\n",
    "\n"
   ]
  },
  {
   "cell_type": "markdown",
   "metadata": {},
   "source": [
    "## Reading, detrending and plotting the time series"
   ]
  },
  {
   "cell_type": "code",
   "execution_count": null,
   "metadata": {
    "scrolled": false
   },
   "outputs": [],
   "source": [
    "## Read the miniseed file and detrend:\n",
    "\n",
    "#RM33\n",
    "rm33z.detrend(\"demean\")\n",
    "rm33n.detrend(\"demean\")\n",
    "rm33e.detrend(\"demean\")\n",
    "\n",
    "rm33z.plot()\n",
    "rm33n.plot()\n",
    "rm33e.plot()\n",
    "\n",
    "#TERO \n",
    "teroz.detrend(\"demean\")\n",
    "teron.detrend(\"demean\")\n",
    "teroe.detrend(\"demean\")\n",
    "\n",
    "teroz.plot()\n",
    "teron.plot()\n",
    "teroe.plot()\n",
    "\n",
    "#PIGN\n",
    "pignz.detrend(\"demean\")\n",
    "pignn.detrend(\"demean\")\n",
    "pigne.detrend(\"demean\")\n",
    "\n",
    "pignz.plot()\n",
    "pignn.plot()\n",
    "pigne.plot()\n",
    "\n",
    "#GRN\n",
    "grnz.detrend(\"demean\")\n",
    "grnn.detrend(\"demean\")\n",
    "grne.detrend(\"demean\")\n",
    "\n",
    "grnz.plot()\n",
    "grnn.plot()\n",
    "grne.plot()\n",
    "\n",
    "\n",
    "\n",
    "\n",
    "\n"
   ]
  },
  {
   "cell_type": "markdown",
   "metadata": {},
   "source": [
    "## Calculating the Fourier transform of the signals:"
   ]
  },
  {
   "cell_type": "code",
   "execution_count": null,
   "metadata": {},
   "outputs": [],
   "source": [
    "#calculate the Fourier transform of the \"North\" direction signals\n",
    "dt1=(rm33n[0].stats.endtime-rm33n[0].stats.starttime)/len(rm33n[0])\n",
    "T1=(rm33n[0].stats.endtime-rm33n[0].stats.starttime)\n",
    "\n",
    "dt2=(pignn[0].stats.endtime-pignn[0].stats.starttime)/len(pignn[0])\n",
    "T2=(pignn[0].stats.endtime-pignn[0].stats.starttime)\n",
    "\n",
    "dt3=(grnn[0].stats.endtime-grnn[0].stats.starttime)/len(grnn[0])\n",
    "T3=(grnn[0].stats.endtime-grnn[0].stats.starttime)\n",
    "\n",
    "a=abs(np.fft.fft(rm33n[0]))\n",
    "b=abs(np.fft.fft(pignn[0]))\n",
    "c=abs(np.fft.fft(grnn[0],60002))\n",
    "\n",
    "afreq=np.arange(0,1/dt1,1/T1)\n",
    "bfreq=np.arange(0,1/dt2,1/T2)\n",
    "cfreq=np.arange(0,1/dt3,1/T3)\n",
    "\n",
    "\n",
    "\n",
    "plt.figure()\n",
    "plt.plot(afreq,a,label='Station RM33 HNN')\n",
    "plt.plot(bfreq,b,label='Station PIGN HHN')\n",
    "plt.plot(cfreq,c,label='Station GRN HHN')\n",
    "plt.legend(loc='upper center')\n",
    "plt.xlabel('Frequence(Hz)')\n",
    "plt.ylabel('Amplitude')\n",
    "plt.title('Frequency spectrum')\n"
   ]
  },
  {
   "cell_type": "markdown",
   "metadata": {},
   "source": [
    "## Calculate the energy"
   ]
  },
  {
   "cell_type": "code",
   "execution_count": null,
   "metadata": {},
   "outputs": [],
   "source": [
    "#calculate the energy of the time signals\n",
    "at=0\n",
    "for i in range(len(rm33n[0])):\n",
    "  at=at+(rm33n[0][i])**2\n",
    "for i in range(len(rm33e[0])):\n",
    "  at=at+(rm33e[0][i])**2\n",
    "for i in range(len(rm33z[0])):\n",
    "  at=at+(rm33z[0][i])**2\n",
    "bt=0\n",
    "for i in range(len(pignn[0])):\n",
    "  bt=bt+(pignn[0][i])**2\n",
    "for i in range(len(pigne[0])):\n",
    "  bt=bt+(pigne[0][i])**2\n",
    "for i in range(len(pignz[0])):\n",
    "  bt=bt+(pignz[0][i])**2\n",
    "ct = 0\n",
    "for i in range(len(grnn[0])):\n",
    "  ct = ct + (grnn[0][i])**2\n",
    "for i in range(len(grne[0])):\n",
    "  ct = ct + (grne[0][i])**2\n",
    "for i in range(len(grnz[0])):\n",
    "  ct = ct + (grnz[0][i])**2\n",
    "\n",
    "print('Signal Energy of RM33HN = '+str(at))\n",
    "print('Signal Energy of PIGNHH= '+str(bt))\n",
    "print('Signal Energy of GRNHH = '+str(ct))\n",
    "plt.show()"
   ]
  },
  {
   "cell_type": "code",
   "execution_count": null,
   "metadata": {},
   "outputs": [],
   "source": []
  }
 ],
 "metadata": {
  "kernelspec": {
   "display_name": "Python 3",
   "language": "python",
   "name": "python3"
  },
  "language_info": {
   "codemirror_mode": {
    "name": "ipython",
    "version": 3
   },
   "file_extension": ".py",
   "mimetype": "text/x-python",
   "name": "python",
   "nbconvert_exporter": "python",
   "pygments_lexer": "ipython3",
   "version": "3.8.3"
  }
 },
 "nbformat": 4,
 "nbformat_minor": 4
}
